{
 "cells": [
  {
   "cell_type": "markdown",
   "metadata": {},
   "source": [
    "# Aproximacion de las raices de una funcion"
   ]
  },
  {
   "cell_type": "code",
   "execution_count": 136,
   "metadata": {},
   "outputs": [],
   "source": [
    "def newton(f,Df,x0,tol):\n",
    "    '''\n",
    "    Programa para aproximar las raices de una funcion f(x)=0, usando el Metodo de Newton.\n",
    "    Semiramis Garcia de la Cruz\n",
    "    \n",
    "    Entradas\n",
    "    ----------------------------------------\n",
    "    f : funcion f(x)\n",
    "    Df : derivada de la funcipn f(x)\n",
    "    x0 : condicion inicial para f(x)=0\n",
    "    tol : tolerancia abs(f(x)) < epsilon\n",
    "    \n",
    "    Salidas\n",
    "    ---------------------------------------------------------\n",
    "    xn : aproximacion de la raiz\n",
    "    None: en caso de que Df(xn) == 0 o se excedan el max_iter\n",
    "      \n",
    "    Ejemplo\n",
    "    ----------------------------------\n",
    "    >>> f = lambda x: x**2 - x - 1\n",
    "    >>> Df = lambda x: 2*x - 1\n",
    "    >>> newton(f,Df,1,1e-8,10)\n",
    "    Found solution after 5 iterations.\n",
    "    1.618033988749989\n",
    "    '''\n",
    "    print('Método Newton')\n",
    "    max_iter = 10000\n",
    "    xn = x0\n",
    "    for n in range(0,max_iter):\n",
    "        fxn = f(xn)\n",
    "        if abs(fxn) < tol:\n",
    "            #print('Se encontro la solucion en',n,'iterations.')\n",
    "            return xn\n",
    "        Dfxn = Df(xn)\n",
    "        if Dfxn == 0:\n",
    "            print('Solución no encontrada')\n",
    "            return None\n",
    "        xn = xn - fxn/Dfxn\n",
    "    print('Se excedio el número de iteraciones')\n",
    "    return None"
   ]
  },
  {
   "cell_type": "code",
   "execution_count": 137,
   "metadata": {},
   "outputs": [],
   "source": [
    "def biseccion(f,a,b,N):\n",
    "    '''\n",
    "    Programa para aproximar las raíces de una funcion f(x)=0\n",
    "    en el intervalo [a,b] por el Metodo de Biseccion\n",
    "    Semiramis Garcia de la Cruz\n",
    "\n",
    "    Entradas\n",
    "    ----------------------------------------\n",
    "    f : funcion f(x)\n",
    "    a,b : intervalo \n",
    "    #Nota: Si f(a)*f(b) >= 0, no se asegura ninguna solucion \n",
    "    N : numero de iteraciones\n",
    "\n",
    "    Salidas\n",
    "    ----------------------------\n",
    "    xn : aproximacion de la raiz\n",
    "    \n",
    "    Ejemplo\n",
    "    --------\n",
    "    >>> f = lambda x: x**2 - x - 1\n",
    "    >>> bisection(f,1,2,25)\n",
    "    1.618033990263939\n",
    "    '''\n",
    "    print('Método bisección')\n",
    "    if f(a)*f(b) >= 0:\n",
    "        print(\"El método falló\")\n",
    "        return None\n",
    "    a_n = a\n",
    "    b_n = b\n",
    "    for n in range(1,N+1):\n",
    "        m_n = (a_n + b_n)/2\n",
    "        f_m_n = f(m_n)\n",
    "        if f(a_n)*f_m_n < 0:\n",
    "            a_n = a_n\n",
    "            b_n = m_n\n",
    "        elif f(b_n)*f_m_n < 0:\n",
    "            a_n = m_n\n",
    "            b_n = b_n\n",
    "        elif f_m_n == 0:\n",
    "            print(\"Se encontró la solución\")\n",
    "            return m_n\n",
    "        else:\n",
    "            print(\"El método falló\")\n",
    "            return None\n",
    "    return (a_n + b_n)/2"
   ]
  },
  {
   "cell_type": "code",
   "execution_count": 104,
   "metadata": {},
   "outputs": [],
   "source": [
    "def secante(f,a,b,N):\n",
    "    '''\n",
    "    Programa para aproximar las raices de una funcion f(x)=0\n",
    "    en el intervalo [a,b] por el Metodo de Biseccion\n",
    "    Semiramis Garcia de la Cruz\n",
    "\n",
    "    Entradas\n",
    "    ----------------------------------------\n",
    "    f : funcion f(x)\n",
    "    a,b : intervalo \n",
    "    #Nota: Si f(a)*f(b) >= 0, no se asegura ninguna solucion \n",
    "    N : numero de iteraciones\n",
    "\n",
    "    Ejemplo\n",
    "    --------\n",
    "    >>> f = lambda x: x**2 - x - 1\n",
    "    >>> secant(f,1,2,5)\n",
    "    1.6180257510729614\n",
    "    '''\n",
    "    print('Método secante')\n",
    "    if f(a)*f(b) >= 0:\n",
    "        print(\"El método falló\")\n",
    "        return None\n",
    "    a_n = a\n",
    "    b_n = b\n",
    "    for n in range(1,N+1):\n",
    "        m_n = a_n - f(a_n)*(b_n - a_n)/(f(b_n) - f(a_n))\n",
    "        f_m_n = f(m_n)\n",
    "        if f(a_n)*f_m_n < 0:\n",
    "            a_n = a_n\n",
    "            b_n = m_n\n",
    "        elif f(b_n)*f_m_n < 0:\n",
    "            a_n = m_n\n",
    "            b_n = b_n\n",
    "        elif f_m_n == 0:\n",
    "            #print(\"Se encontro la solucion\")\n",
    "            return m_n\n",
    "        else:\n",
    "            print(\"El método falló\")\n",
    "            return None\n",
    "    return a_n - f(a_n)*(b_n - a_n)/(f(b_n) - f(a_n))\n"
   ]
  },
  {
   "cell_type": "markdown",
   "metadata": {},
   "source": [
    "Una vez definidos los metodos, tendremos algunas funciones para probarlos."
   ]
  },
  {
   "cell_type": "code",
   "execution_count": 105,
   "metadata": {},
   "outputs": [],
   "source": [
    "from math import sin,cos\n",
    "f1 = lambda x: 28*x**3 + 6*x**2 + 3\n",
    "der_f1 = lambda x: 84*x**2 + 12*x\n",
    "f2 = lambda x: 28*x**3 + 6*x**2 + 3 - 4*x**(-3)\n",
    "der_f2 =  lambda x: 84*x**2 + 12*x - 12*x**(-4)\n",
    "f3 = lambda x: 6*x**2\n",
    "der_f3 = lambda x: 12*x\n",
    "f4 = lambda x: 6*cos(2*x + 1)\n",
    "der_f4 = lambda x: -12*sin(2*x + 1)\n",
    "f5 = lambda x: 12*x**3 - 12*x**2\n",
    "der_f5 = lambda x: 36*x**2 - 36*x\n",
    "\n",
    "tol = 1e-10 #tolerancia empleada"
   ]
  },
  {
   "cell_type": "code",
   "execution_count": 106,
   "metadata": {},
   "outputs": [
    {
     "name": "stdout",
     "output_type": "stream",
     "text": [
      "Método bisección\n",
      "-0.5581760406494141\n"
     ]
    }
   ],
   "source": [
    "f1 = lambda x: 28*x**3 + 6*x**2 + 3\n",
    "der_f1 = lambda x: 84*x**2 + 12*x\n",
    "aproxb = biseccion(f1,-10,10,20)\n",
    "print(aproxb)"
   ]
  },
  {
   "cell_type": "code",
   "execution_count": 116,
   "metadata": {},
   "outputs": [
    {
     "name": "stdout",
     "output_type": "stream",
     "text": [
      "Método bisección\n",
      "-0.804312467575073\n",
      "Método secante\n",
      "1.0344319197470575\n"
     ]
    }
   ],
   "source": [
    "f2 = lambda x: 28*x**3 + 6*x**2 + 3 - 4*x**(-3)\n",
    "aproxb1 = biseccion(f2,-10,-0.1,20)\n",
    "print(aproxb1)\n",
    "aproxb2 = biseccion(f2,0.1,10,20)\n",
    "print(aproxb2)"
   ]
  },
  {
   "cell_type": "code",
   "execution_count": 122,
   "metadata": {},
   "outputs": [
    {
     "name": "stdout",
     "output_type": "stream",
     "text": [
      "Método Newton\n",
      "-2.384185791015625e-06\n"
     ]
    }
   ],
   "source": [
    "f3 = lambda x: 6*x**2\n",
    "der_f3 = lambda x: 12*x\n",
    "tol = 1e-10\n",
    "aproxn = newton(f3,der_f3,-5,tol)\n",
    "print(aproxn)"
   ]
  },
  {
   "cell_type": "code",
   "execution_count": 135,
   "metadata": {},
   "outputs": [
    {
     "name": "stdout",
     "output_type": "stream",
     "text": [
      "Método Newton\n",
      "-4.426990816987241\n",
      "Método Newton\n",
      "-2.856194490192345\n",
      "Método Newton\n",
      "-1.2853981633974483\n",
      "Método Newton\n",
      "0.28539816339744833\n",
      "Método Newton\n",
      "1.856194490192345\n",
      "Método Newton\n",
      "3.4269908169872414\n",
      "Método Newton\n",
      "4.997787143782055\n"
     ]
    },
    {
     "data": {
      "text/plain": [
       "0.4233600241796016"
      ]
     },
     "execution_count": 135,
     "metadata": {},
     "output_type": "execute_result"
    }
   ],
   "source": [
    "from math import sin,cos\n",
    "f4 = lambda x: 6*cos(2*x + 1)\n",
    "f = lambda x: 3*sin(2*x+1)\n",
    "der_f4 = lambda x: -12*sin(2*x + 1)\n",
    "tol = 1e-10\n",
    "puntos = [-4.5,-3,-1.5,0.1,1.5,3,4.5]\n",
    "for i in puntos:\n",
    "    aproxn = newton(f4,der_f4,i,tol)\n",
    "    print(aproxn)\n"
   ]
  }
 ],
 "metadata": {
  "kernelspec": {
   "display_name": "Python 3",
   "language": "python",
   "name": "python3"
  },
  "language_info": {
   "codemirror_mode": {
    "name": "ipython",
    "version": 3
   },
   "file_extension": ".py",
   "mimetype": "text/x-python",
   "name": "python",
   "nbconvert_exporter": "python",
   "pygments_lexer": "ipython3",
   "version": "3.7.4"
  }
 },
 "nbformat": 4,
 "nbformat_minor": 2
}
